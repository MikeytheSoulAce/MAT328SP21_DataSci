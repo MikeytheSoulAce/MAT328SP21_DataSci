{
 "cells": [
  {
   "cell_type": "markdown",
   "id": "ahead-cemetery",
   "metadata": {},
   "source": [
    "# Milestone 2 of the data project"
   ]
  },
  {
   "cell_type": "markdown",
   "id": "related-amateur",
   "metadata": {},
   "source": [
    "For this milestone I am doing linear and decision tree regression on the COVID-19 data in NYC. Decided to do this as a notebook for ease of use and cuz I'm not 100% skilled in doing stuff in a raw .py file.\n",
    "\n",
    "In a future fork (after the semester ends) I may explore converting this into a .py though....\n",
    "\n",
    "Please run this in Jupyter or Google Collab until then!"
   ]
  },
  {
   "cell_type": "code",
   "execution_count": 1,
   "id": "suited-richardson",
   "metadata": {},
   "outputs": [],
   "source": [
    "import pandas as pd\n",
    "import matplotlib.pyplot as plt\n",
    "import seaborn as sns\n",
    "import numpy as np\n",
    "import statsmodels.formula.api as smf\n",
    "\n",
    "from sklearn.model_selection import train_test_split as tts\n",
    "\n",
    "from sklearn.tree import DecisionTreeRegressor as dtreereg\n",
    "from sklearn.preprocessing import PolynomialFeatures as polyfeat\n",
    "from sklearn.linear_model import LinearRegression as linreg\n",
    "\n",
    "from sklearn.metrics import confusion_matrix as confmat\n",
    "from sklearn.metrics import mean_squared_error as mse\n",
    "\n",
    "\n",
    "%matplotlib inline\n",
    "\n",
    "covidnyc = pd.read_csv(\"../data-by-modzcta.csv\")\n",
    "\n",
    "x = covidnyc[[\"lat\", \"lon\"]]\n",
    "y = covidnyc[\"COVID_CASE_RATE\"]"
   ]
  },
  {
   "cell_type": "code",
   "execution_count": 2,
   "id": "infectious-speed",
   "metadata": {},
   "outputs": [],
   "source": [
    "# degree 2 polynomial\n",
    "polynomial_features= polyfeat(degree=2)\n",
    "x_poly = polynomial_features.fit_transform(x)\n",
    "\n",
    "x_train, x_test, y_train, y_test = tts(x_poly, y, test_size=0.2)"
   ]
  },
  {
   "cell_type": "code",
   "execution_count": 3,
   "id": "polyphonic-taste",
   "metadata": {},
   "outputs": [
    {
     "data": {
      "text/plain": [
       "LinearRegression()"
      ]
     },
     "execution_count": 3,
     "metadata": {},
     "output_type": "execute_result"
    }
   ],
   "source": [
    "lin_model = linreg()\n",
    "lin_model.fit(x_train,y_train)"
   ]
  },
  {
   "cell_type": "code",
   "execution_count": 4,
   "id": "described-dress",
   "metadata": {},
   "outputs": [],
   "source": [
    "y_pred = lin_model.predict(x_test)"
   ]
  },
  {
   "cell_type": "code",
   "execution_count": 5,
   "id": "second-board",
   "metadata": {},
   "outputs": [
    {
     "data": {
      "text/plain": [
       "1537322.3403298033"
      ]
     },
     "execution_count": 5,
     "metadata": {},
     "output_type": "execute_result"
    }
   ],
   "source": [
    "mse(y_test,y_pred)"
   ]
  },
  {
   "cell_type": "code",
   "execution_count": 6,
   "id": "legislative-therapist",
   "metadata": {},
   "outputs": [],
   "source": [
    "# degree 5 polynomial\n",
    "poly_feat_5 = polyfeat(degree=5)\n",
    "x_poly_5 = poly_feat_5.fit_transform(x)\n",
    "\n",
    "x_train_5, x_test_5, y_train_5, y_test_5 = tts(x_poly_5, y, test_size=0.2)"
   ]
  },
  {
   "cell_type": "code",
   "execution_count": 7,
   "id": "distinguished-dressing",
   "metadata": {},
   "outputs": [
    {
     "data": {
      "text/plain": [
       "LinearRegression()"
      ]
     },
     "execution_count": 7,
     "metadata": {},
     "output_type": "execute_result"
    }
   ],
   "source": [
    "lin_model_5 = linreg()\n",
    "lin_model_5.fit(x_train_5,y_train_5)"
   ]
  },
  {
   "cell_type": "code",
   "execution_count": 8,
   "id": "gothic-collaboration",
   "metadata": {},
   "outputs": [],
   "source": [
    "y_pred_5 = lin_model_5.predict(x_test_5)"
   ]
  },
  {
   "cell_type": "code",
   "execution_count": 9,
   "id": "unexpected-premiere",
   "metadata": {},
   "outputs": [
    {
     "data": {
      "text/plain": [
       "2945107.6436907398"
      ]
     },
     "execution_count": 9,
     "metadata": {},
     "output_type": "execute_result"
    }
   ],
   "source": [
    "mse(y_test_5,y_pred_5)"
   ]
  },
  {
   "cell_type": "code",
   "execution_count": 10,
   "id": "promising-aquarium",
   "metadata": {},
   "outputs": [],
   "source": [
    "# degree 10 polynomial\n",
    "poly_feat_10 = polyfeat(degree=10)\n",
    "x_poly_10 = poly_feat_10.fit_transform(x)\n",
    "\n",
    "x_train_10, x_test_10, y_train_10, y_test_10 = tts(x_poly_10, y, test_size=0.2)"
   ]
  },
  {
   "cell_type": "code",
   "execution_count": 11,
   "id": "normal-latex",
   "metadata": {},
   "outputs": [
    {
     "data": {
      "text/plain": [
       "LinearRegression()"
      ]
     },
     "execution_count": 11,
     "metadata": {},
     "output_type": "execute_result"
    }
   ],
   "source": [
    "lin_model_10 = linreg()\n",
    "lin_model_10.fit(x_train_10,y_train_10)"
   ]
  },
  {
   "cell_type": "code",
   "execution_count": 12,
   "id": "supreme-retirement",
   "metadata": {},
   "outputs": [],
   "source": [
    "y_pred_10 = lin_model_10.predict(x_test_10)"
   ]
  },
  {
   "cell_type": "code",
   "execution_count": 13,
   "id": "israeli-proof",
   "metadata": {},
   "outputs": [
    {
     "data": {
      "text/plain": [
       "1975027.9526580998"
      ]
     },
     "execution_count": 13,
     "metadata": {},
     "output_type": "execute_result"
    }
   ],
   "source": [
    "mse(y_test_10,y_pred_10)"
   ]
  },
  {
   "cell_type": "code",
   "execution_count": 14,
   "id": "responsible-mitchell",
   "metadata": {},
   "outputs": [
    {
     "data": {
      "text/plain": [
       "1698269.240266402"
      ]
     },
     "execution_count": 14,
     "metadata": {},
     "output_type": "execute_result"
    }
   ],
   "source": [
    "x_train_dtree, x_test_dtree, y_train_dtree, y_test_dtree = tts(x, y, test_size=0.2)\n",
    "\n",
    "# depth 3 tree\n",
    "dtree_model = dtreereg(max_depth=3)\n",
    "dtree_model.fit(x_train_dtree,y_train_dtree)\n",
    "\n",
    "y_pred_dtree = dtree_model.predict(x_test_dtree)\n",
    "\n",
    "mse(y_pred_dtree,y_test_dtree)"
   ]
  },
  {
   "cell_type": "code",
   "execution_count": 15,
   "id": "assisted-gallery",
   "metadata": {},
   "outputs": [
    {
     "data": {
      "text/plain": [
       "1599419.3151484672"
      ]
     },
     "execution_count": 15,
     "metadata": {},
     "output_type": "execute_result"
    }
   ],
   "source": [
    "# depth 6 tree\n",
    "dtree_model_6 = dtreereg(max_depth=6)\n",
    "dtree_model_6.fit(x_train_dtree,y_train_dtree)\n",
    "\n",
    "y_pred_dtree6 = dtree_model_6.predict(x_test_dtree)\n",
    "\n",
    "mse(y_pred_dtree6,y_test_dtree)"
   ]
  },
  {
   "cell_type": "code",
   "execution_count": 16,
   "id": "animated-latitude",
   "metadata": {},
   "outputs": [
    {
     "data": {
      "text/plain": [
       "1832320.6709397873"
      ]
     },
     "execution_count": 16,
     "metadata": {},
     "output_type": "execute_result"
    }
   ],
   "source": [
    "# depth 10 tree\n",
    "dtree_model_10 = dtreereg(max_depth=10)\n",
    "dtree_model_10.fit(x_train_dtree,y_train_dtree)\n",
    "\n",
    "y_pred_dtree10 = dtree_model_10.predict(x_test_dtree)\n",
    "\n",
    "mse(y_pred_dtree10,y_test_dtree)"
   ]
  }
 ],
 "metadata": {
  "kernelspec": {
   "display_name": "Python 3",
   "language": "python",
   "name": "python3"
  },
  "language_info": {
   "codemirror_mode": {
    "name": "ipython",
    "version": 3
   },
   "file_extension": ".py",
   "mimetype": "text/x-python",
   "name": "python",
   "nbconvert_exporter": "python",
   "pygments_lexer": "ipython3",
   "version": "3.7.9"
  }
 },
 "nbformat": 4,
 "nbformat_minor": 5
}
